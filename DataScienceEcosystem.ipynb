{
  "metadata": {
    "kernelspec": {
      "name": "python",
      "display_name": "Python (Pyodide)",
      "language": "python"
    },
    "language_info": {
      "codemirror_mode": {
        "name": "python",
        "version": 3
      },
      "file_extension": ".py",
      "mimetype": "text/x-python",
      "name": "python",
      "nbconvert_exporter": "python",
      "pygments_lexer": "ipython3",
      "version": "3.8"
    }
  },
  "nbformat_minor": 5,
  "nbformat": 4,
  "cells": [
    {
      "id": "7df66b44-05e6-4fd4-bf6b-133a538c2292",
      "cell_type": "markdown",
      "source": "# Data Science Tools and Ecosystem",
      "metadata": {}
    },
    {
      "id": "bcc8d105-11aa-4565-b9da-b3c4553accb5",
      "cell_type": "markdown",
      "source": "## In this notebook, Data Science Tools and Ecosystem are summarized.",
      "metadata": {},
      "attachments": {}
    },
    {
      "id": "9d22698f-0936-4393-8657-9610bded5afb",
      "cell_type": "markdown",
      "source": "Some of the popular languages that Data Scientists use are:\n1. Python\n2. R\n3. Julia",
      "metadata": {}
    },
    {
      "id": "c6a3efe5-8b28-439c-83f5-bee7d7c0f819",
      "cell_type": "markdown",
      "source": "Some of the commonly used libraries used by Data Scientists include:\n1. Pandas\n2. Keras\n3. Scikit-learn\n4. Seaborn",
      "metadata": {}
    },
    {
      "id": "7130091e-99ca-4146-a74d-627a853d212d",
      "cell_type": "markdown",
      "source": "|Data Science Tools|\n|:----------------:|\n|Scikit-Learn      |\n|R-Studio          |\n|Apache Spark      |",
      "metadata": {}
    },
    {
      "id": "3d434f9a-9c10-4fd4-bd22-297f2d1c2f5a",
      "cell_type": "markdown",
      "source": "### Below are a few examples of evaluating arithmetic expressions in Python.",
      "metadata": {}
    },
    {
      "id": "6d069935-c99a-4ac2-980b-a18f7180f64d",
      "cell_type": "code",
      "source": "# This a simple arithmetic expression to mutiply then add integers\n(3*4)+5",
      "metadata": {
        "trusted": true
      },
      "outputs": [
        {
          "execution_count": 4,
          "output_type": "execute_result",
          "data": {
            "text/plain": "17"
          },
          "metadata": {}
        }
      ],
      "execution_count": 4
    },
    {
      "id": "79238c61-4277-41e1-9508-69d989b373d4",
      "cell_type": "code",
      "source": "# This will convert 200 minutes to hours by diving by 60\n200//60",
      "metadata": {
        "trusted": true
      },
      "outputs": [
        {
          "execution_count": 5,
          "output_type": "execute_result",
          "data": {
            "text/plain": "3"
          },
          "metadata": {}
        }
      ],
      "execution_count": 5
    },
    {
      "id": "f8b4fab0-c1f3-4191-b3ec-0a9b6242a217",
      "cell_type": "markdown",
      "source": "**Objectives:**\n* Expression that converts minutes to hours\n* A simple arithmetic expression to mutiply then add integers\n* A list of development environment open source tools used in data science.",
      "metadata": {}
    },
    {
      "id": "572f83bb-94bd-424b-be1d-d91f7e6aebae",
      "cell_type": "markdown",
      "source": "## Author\nSakshi Kulkarni",
      "metadata": {}
    },
    {
      "id": "71dec82e-c555-475a-8c93-d68e5b3cc647",
      "cell_type": "code",
      "source": "",
      "metadata": {
        "trusted": true
      },
      "outputs": [],
      "execution_count": null
    }
  ]
}